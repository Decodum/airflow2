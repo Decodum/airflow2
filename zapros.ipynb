{
 "cells": [
  {
   "cell_type": "code",
   "execution_count": 1,
   "metadata": {},
   "outputs": [],
   "source": [
    "import requests as req"
   ]
  },
  {
   "cell_type": "code",
   "execution_count": 2,
   "metadata": {},
   "outputs": [],
   "source": [
    "rate_base = 'GBR'\n",
    "rate_target = 'USD'\n",
    "api_key = '70a6700beb16e5edbe55e49dc12369e9'\n",
    "\n",
    "hist_date = 'latest'\n",
    "url_base = \"https://api.exchangerate.host/covert\"\n",
    "url = url_base + hist_date\n",
    "response = req.get(url, params={'from': rate_base, 'access_key':api_key})\n"
   ]
  },
  {
   "cell_type": "code",
   "execution_count": 3,
   "metadata": {},
   "outputs": [],
   "source": [
    "url = f'http://api.exchangerate.host/timeframe?access_key={api_key}&start_date=2023-10-01&end_date=2023-10-31'\n",
    "#&source=BTC&currencies=RUB&format=1'\n",
    "response = req.get(url, params={'access_key': api_key, \n",
    "                                'source' : 'BTC',\n",
    "                                'currencies' : 'USD',\n",
    "                                'format' : 10})"
   ]
  },
  {
   "cell_type": "code",
   "execution_count": 4,
   "metadata": {},
   "outputs": [],
   "source": [
    "data = response.json()"
   ]
  },
  {
   "cell_type": "code",
   "execution_count": 5,
   "metadata": {},
   "outputs": [
    {
     "data": {
      "text/plain": [
       "{'success': True,\n",
       " 'terms': 'https://currencylayer.com/terms',\n",
       " 'privacy': 'https://currencylayer.com/privacy',\n",
       " 'timeframe': True,\n",
       " 'start_date': '2023-10-01',\n",
       " 'end_date': '2023-10-31',\n",
       " 'source': 'BTC',\n",
       " 'quotes': {'2023-10-01': {'BTCUSD': 27980.3068},\n",
       "  '2023-10-02': {'BTCUSD': 27536.5361},\n",
       "  '2023-10-03': {'BTCUSD': 27414.9573},\n",
       "  '2023-10-04': {'BTCUSD': 27785.7025},\n",
       "  '2023-10-05': {'BTCUSD': 27418.2117},\n",
       "  '2023-10-06': {'BTCUSD': 27969.5575},\n",
       "  '2023-10-07': {'BTCUSD': 27975.1253},\n",
       "  '2023-10-08': {'BTCUSD': 27934.6162},\n",
       "  '2023-10-09': {'BTCUSD': 27575.1744},\n",
       "  '2023-10-10': {'BTCUSD': 27393.7571},\n",
       "  '2023-10-11': {'BTCUSD': 26869.8958},\n",
       "  '2023-10-12': {'BTCUSD': 26751.2102},\n",
       "  '2023-10-13': {'BTCUSD': 26858.8742},\n",
       "  '2023-10-14': {'BTCUSD': 26864.2124},\n",
       "  '2023-10-15': {'BTCUSD': 27154.3782},\n",
       "  '2023-10-16': {'BTCUSD': 28510.495},\n",
       "  '2023-10-17': {'BTCUSD': 28418.3218},\n",
       "  '2023-10-18': {'BTCUSD': 28323.3647},\n",
       "  '2023-10-19': {'BTCUSD': 28710.7338},\n",
       "  '2023-10-20': {'BTCUSD': 29669.7645},\n",
       "  '2023-10-21': {'BTCUSD': 29910.0168},\n",
       "  '2023-10-22': {'BTCUSD': 29978.9787},\n",
       "  '2023-10-23': {'BTCUSD': 32948.0138},\n",
       "  '2023-10-24': {'BTCUSD': 33887.1459},\n",
       "  '2023-10-25': {'BTCUSD': 34504.6987},\n",
       "  '2023-10-26': {'BTCUSD': 34174.6976},\n",
       "  '2023-10-27': {'BTCUSD': 33910.3502},\n",
       "  '2023-10-28': {'BTCUSD': 34097.3711},\n",
       "  '2023-10-29': {'BTCUSD': 34554.7801},\n",
       "  '2023-10-30': {'BTCUSD': 34500.7938},\n",
       "  '2023-10-31': {'BTCUSD': 34673.2427}}}"
      ]
     },
     "execution_count": 5,
     "metadata": {},
     "output_type": "execute_result"
    }
   ],
   "source": [
    "data"
   ]
  },
  {
   "cell_type": "code",
   "execution_count": 6,
   "metadata": {},
   "outputs": [
    {
     "name": "stdout",
     "output_type": "stream",
     "text": [
      "Requirement already satisfied: pip in /Library/Frameworks/Python.framework/Versions/3.12/lib/python3.12/site-packages (23.3.1)\n",
      "Note: you may need to restart the kernel to use updated packages.\n"
     ]
    }
   ],
   "source": [
    "pip install --upgrade pip"
   ]
  },
  {
   "cell_type": "code",
   "execution_count": 7,
   "metadata": {},
   "outputs": [
    {
     "name": "stdout",
     "output_type": "stream",
     "text": [
      "Requirement already satisfied: psycopg2-binary in /Library/Frameworks/Python.framework/Versions/3.12/lib/python3.12/site-packages (2.9.9)\n",
      "Note: you may need to restart the kernel to use updated packages.\n"
     ]
    }
   ],
   "source": [
    "pip install psycopg2-binary"
   ]
  },
  {
   "cell_type": "code",
   "execution_count": 8,
   "metadata": {},
   "outputs": [],
   "source": [
    "import psycopg2 as ps2"
   ]
  },
  {
   "cell_type": "code",
   "execution_count": 9,
   "metadata": {},
   "outputs": [],
   "source": [
    "pg_hostname = 'localhost'\n",
    "pg_port = '5430'\n",
    "pg_username = 'postgres'\n",
    "pg_pass = 'password'\n",
    "pg_db = 'test'"
   ]
  },
  {
   "cell_type": "code",
   "execution_count": 10,
   "metadata": {},
   "outputs": [],
   "source": [
    "conn = ps2.connect(host=pg_hostname, port=pg_port, user=pg_username, password=pg_pass, database=pg_db)"
   ]
  },
  {
   "cell_type": "code",
   "execution_count": 11,
   "metadata": {},
   "outputs": [
    {
     "data": {
      "text/plain": [
       "{'success': True,\n",
       " 'terms': 'https://currencylayer.com/terms',\n",
       " 'privacy': 'https://currencylayer.com/privacy',\n",
       " 'timeframe': True,\n",
       " 'start_date': '2023-10-01',\n",
       " 'end_date': '2023-10-31',\n",
       " 'source': 'BTC',\n",
       " 'quotes': {'2023-10-01': {'BTCUSD': 27980.3068},\n",
       "  '2023-10-02': {'BTCUSD': 27536.5361},\n",
       "  '2023-10-03': {'BTCUSD': 27414.9573},\n",
       "  '2023-10-04': {'BTCUSD': 27785.7025},\n",
       "  '2023-10-05': {'BTCUSD': 27418.2117},\n",
       "  '2023-10-06': {'BTCUSD': 27969.5575},\n",
       "  '2023-10-07': {'BTCUSD': 27975.1253},\n",
       "  '2023-10-08': {'BTCUSD': 27934.6162},\n",
       "  '2023-10-09': {'BTCUSD': 27575.1744},\n",
       "  '2023-10-10': {'BTCUSD': 27393.7571},\n",
       "  '2023-10-11': {'BTCUSD': 26869.8958},\n",
       "  '2023-10-12': {'BTCUSD': 26751.2102},\n",
       "  '2023-10-13': {'BTCUSD': 26858.8742},\n",
       "  '2023-10-14': {'BTCUSD': 26864.2124},\n",
       "  '2023-10-15': {'BTCUSD': 27154.3782},\n",
       "  '2023-10-16': {'BTCUSD': 28510.495},\n",
       "  '2023-10-17': {'BTCUSD': 28418.3218},\n",
       "  '2023-10-18': {'BTCUSD': 28323.3647},\n",
       "  '2023-10-19': {'BTCUSD': 28710.7338},\n",
       "  '2023-10-20': {'BTCUSD': 29669.7645},\n",
       "  '2023-10-21': {'BTCUSD': 29910.0168},\n",
       "  '2023-10-22': {'BTCUSD': 29978.9787},\n",
       "  '2023-10-23': {'BTCUSD': 32948.0138},\n",
       "  '2023-10-24': {'BTCUSD': 33887.1459},\n",
       "  '2023-10-25': {'BTCUSD': 34504.6987},\n",
       "  '2023-10-26': {'BTCUSD': 34174.6976},\n",
       "  '2023-10-27': {'BTCUSD': 33910.3502},\n",
       "  '2023-10-28': {'BTCUSD': 34097.3711},\n",
       "  '2023-10-29': {'BTCUSD': 34554.7801},\n",
       "  '2023-10-30': {'BTCUSD': 34500.7938},\n",
       "  '2023-10-31': {'BTCUSD': 34673.2427}}}"
      ]
     },
     "execution_count": 11,
     "metadata": {},
     "output_type": "execute_result"
    }
   ],
   "source": [
    "data"
   ]
  },
  {
   "cell_type": "code",
   "execution_count": 12,
   "metadata": {},
   "outputs": [
    {
     "data": {
      "text/plain": [
       "{'success': True,\n",
       " 'terms': 'https://currencylayer.com/terms',\n",
       " 'privacy': 'https://currencylayer.com/privacy',\n",
       " 'timeframe': True,\n",
       " 'start_date': '2023-10-01',\n",
       " 'end_date': '2023-10-31',\n",
       " 'source': 'BTC',\n",
       " 'quotes': {'2023-10-01': {'BTCUSD': 27980.3068},\n",
       "  '2023-10-02': {'BTCUSD': 27536.5361},\n",
       "  '2023-10-03': {'BTCUSD': 27414.9573},\n",
       "  '2023-10-04': {'BTCUSD': 27785.7025},\n",
       "  '2023-10-05': {'BTCUSD': 27418.2117},\n",
       "  '2023-10-06': {'BTCUSD': 27969.5575},\n",
       "  '2023-10-07': {'BTCUSD': 27975.1253},\n",
       "  '2023-10-08': {'BTCUSD': 27934.6162},\n",
       "  '2023-10-09': {'BTCUSD': 27575.1744},\n",
       "  '2023-10-10': {'BTCUSD': 27393.7571},\n",
       "  '2023-10-11': {'BTCUSD': 26869.8958},\n",
       "  '2023-10-12': {'BTCUSD': 26751.2102},\n",
       "  '2023-10-13': {'BTCUSD': 26858.8742},\n",
       "  '2023-10-14': {'BTCUSD': 26864.2124},\n",
       "  '2023-10-15': {'BTCUSD': 27154.3782},\n",
       "  '2023-10-16': {'BTCUSD': 28510.495},\n",
       "  '2023-10-17': {'BTCUSD': 28418.3218},\n",
       "  '2023-10-18': {'BTCUSD': 28323.3647},\n",
       "  '2023-10-19': {'BTCUSD': 28710.7338},\n",
       "  '2023-10-20': {'BTCUSD': 29669.7645},\n",
       "  '2023-10-21': {'BTCUSD': 29910.0168},\n",
       "  '2023-10-22': {'BTCUSD': 29978.9787},\n",
       "  '2023-10-23': {'BTCUSD': 32948.0138},\n",
       "  '2023-10-24': {'BTCUSD': 33887.1459},\n",
       "  '2023-10-25': {'BTCUSD': 34504.6987},\n",
       "  '2023-10-26': {'BTCUSD': 34174.6976},\n",
       "  '2023-10-27': {'BTCUSD': 33910.3502},\n",
       "  '2023-10-28': {'BTCUSD': 34097.3711},\n",
       "  '2023-10-29': {'BTCUSD': 34554.7801},\n",
       "  '2023-10-30': {'BTCUSD': 34500.7938},\n",
       "  '2023-10-31': {'BTCUSD': 34673.2427}}}"
      ]
     },
     "execution_count": 12,
     "metadata": {},
     "output_type": "execute_result"
    }
   ],
   "source": [
    "data\n"
   ]
  },
  {
   "cell_type": "code",
   "execution_count": 13,
   "metadata": {},
   "outputs": [],
   "source": [
    "from datetime import datetime\n",
    "def func(x):\n",
    "    return datetime.utcfromtimestamp(data['start_date']).strftime('%Y-%m-%d %H:%M:%S')"
   ]
  },
  {
   "cell_type": "code",
   "execution_count": 14,
   "metadata": {},
   "outputs": [
    {
     "data": {
      "text/plain": [
       "{'success': True,\n",
       " 'terms': 'https://currencylayer.com/terms',\n",
       " 'privacy': 'https://currencylayer.com/privacy',\n",
       " 'timeframe': True,\n",
       " 'start_date': '2023-10-01',\n",
       " 'end_date': '2023-10-31',\n",
       " 'source': 'BTC',\n",
       " 'quotes': {'2023-10-01': {'BTCUSD': 27980.3068},\n",
       "  '2023-10-02': {'BTCUSD': 27536.5361},\n",
       "  '2023-10-03': {'BTCUSD': 27414.9573},\n",
       "  '2023-10-04': {'BTCUSD': 27785.7025},\n",
       "  '2023-10-05': {'BTCUSD': 27418.2117},\n",
       "  '2023-10-06': {'BTCUSD': 27969.5575},\n",
       "  '2023-10-07': {'BTCUSD': 27975.1253},\n",
       "  '2023-10-08': {'BTCUSD': 27934.6162},\n",
       "  '2023-10-09': {'BTCUSD': 27575.1744},\n",
       "  '2023-10-10': {'BTCUSD': 27393.7571},\n",
       "  '2023-10-11': {'BTCUSD': 26869.8958},\n",
       "  '2023-10-12': {'BTCUSD': 26751.2102},\n",
       "  '2023-10-13': {'BTCUSD': 26858.8742},\n",
       "  '2023-10-14': {'BTCUSD': 26864.2124},\n",
       "  '2023-10-15': {'BTCUSD': 27154.3782},\n",
       "  '2023-10-16': {'BTCUSD': 28510.495},\n",
       "  '2023-10-17': {'BTCUSD': 28418.3218},\n",
       "  '2023-10-18': {'BTCUSD': 28323.3647},\n",
       "  '2023-10-19': {'BTCUSD': 28710.7338},\n",
       "  '2023-10-20': {'BTCUSD': 29669.7645},\n",
       "  '2023-10-21': {'BTCUSD': 29910.0168},\n",
       "  '2023-10-22': {'BTCUSD': 29978.9787},\n",
       "  '2023-10-23': {'BTCUSD': 32948.0138},\n",
       "  '2023-10-24': {'BTCUSD': 33887.1459},\n",
       "  '2023-10-25': {'BTCUSD': 34504.6987},\n",
       "  '2023-10-26': {'BTCUSD': 34174.6976},\n",
       "  '2023-10-27': {'BTCUSD': 33910.3502},\n",
       "  '2023-10-28': {'BTCUSD': 34097.3711},\n",
       "  '2023-10-29': {'BTCUSD': 34554.7801},\n",
       "  '2023-10-30': {'BTCUSD': 34500.7938},\n",
       "  '2023-10-31': {'BTCUSD': 34673.2427}}}"
      ]
     },
     "execution_count": 14,
     "metadata": {},
     "output_type": "execute_result"
    }
   ],
   "source": [
    "data"
   ]
  },
  {
   "cell_type": "code",
   "execution_count": 15,
   "metadata": {},
   "outputs": [],
   "source": [
    "cursor = conn.cursor()\n",
    "cursor.execute(f\"\"\"CREATE TABLE IF NOT EXISTS rates (\n",
    "               id serial primary key,\n",
    "               start_date date,\n",
    "               source varchar(255),\n",
    "               currencies varchar(255),\n",
    "               rate double precision);\"\"\")\n",
    "conn.commit()"
   ]
  },
  {
   "cell_type": "code",
   "execution_count": 16,
   "metadata": {},
   "outputs": [],
   "source": [
    "for date, values in data['quotes'].items():\n",
    "    btc_usd_rate = values.get('BTCUSD')\n",
    "    if btc_usd_rate is not None:\n",
    "        insert_query = f\"\"\"\n",
    "            INSERT INTO rates (start_date, source, currencies, rate)\n",
    "            VALUES ('{date}', '{data['source']}', 'USD', {btc_usd_rate})\n",
    "        \"\"\"\n",
    "        cursor.execute(insert_query)\n",
    "        conn.commit()\n",
    "\n"
   ]
  },
  {
   "cell_type": "code",
   "execution_count": 17,
   "metadata": {},
   "outputs": [],
   "source": [
    "# cursor = conn.cursor()\n",
    "# cursor.execute(f\"\"\"CREATE TABLE IF NOT EXISTS rates (\n",
    "#                id serial primary key,\n",
    "#                source varchar(255),\n",
    "#                currencies varchar(255),\n",
    "#                rate double precision);\"\"\")\n",
    "# conn.commit()\n",
    "\n",
    "# insert_query = f\"\"\"\n",
    "# INSERT INTO rates (source, currencies, rate) VALUES \n",
    "# {data['source'], 'USD', data['quotes']['2023-10-01']['BTCUSD']}\n",
    "# \"\"\"\n",
    "\n",
    "# cursor.execute(insert_query)\n",
    "# conn.commit()\n",
    "\n",
    "# cursor.close()\n",
    "# conn.close()   \n"
   ]
  },
  {
   "cell_type": "markdown",
   "metadata": {},
   "source": [
    "* день, в который значение курса было максимальным,\n"
   ]
  },
  {
   "cell_type": "code",
   "execution_count": 18,
   "metadata": {},
   "outputs": [
    {
     "name": "stdout",
     "output_type": "stream",
     "text": [
      "[('2023-10-31',)]\n"
     ]
    }
   ],
   "source": [
    "select_query = \"SELECT TO_CHAR(start_date, 'YYYY-MM-DD') AS formatted_date FROM rates ORDER BY rate DESC LIMIT 1\"\n",
    "cursor.execute(select_query)\n",
    "conn.commit()\n",
    "max_rate_day = cursor.fetchall()\n",
    "\n",
    "print(max_rate_day)"
   ]
  },
  {
   "cell_type": "markdown",
   "metadata": {},
   "source": [
    "* день, в который значение курса было минимальным,\n"
   ]
  },
  {
   "cell_type": "code",
   "execution_count": 19,
   "metadata": {},
   "outputs": [
    {
     "name": "stdout",
     "output_type": "stream",
     "text": [
      "[('2023-10-12',)]\n"
     ]
    }
   ],
   "source": [
    "select_query = \"SELECT TO_CHAR(start_date, 'YYYY-MM-DD') AS formatted_date FROM rates ORDER BY rate  LIMIT 1\"\n",
    "cursor.execute(select_query)\n",
    "conn.commit()\n",
    "min_rate_day = cursor.fetchall()\n",
    "\n",
    "print(min_rate_day)"
   ]
  },
  {
   "cell_type": "markdown",
   "metadata": {},
   "source": [
    "* максимальное значение курса,\n"
   ]
  },
  {
   "cell_type": "code",
   "execution_count": 20,
   "metadata": {},
   "outputs": [
    {
     "name": "stdout",
     "output_type": "stream",
     "text": [
      "[(34673.2427,)]\n"
     ]
    }
   ],
   "source": [
    "select_query = \"SELECT rate FROM rates ORDER BY rate DESC LIMIT 1\"\n",
    "cursor.execute(select_query)\n",
    "conn.commit()\n",
    "max_rate = cursor.fetchall()\n",
    "\n",
    "print(max_rate)"
   ]
  },
  {
   "cell_type": "markdown",
   "metadata": {},
   "source": [
    "* минимальное значение курса,"
   ]
  },
  {
   "cell_type": "code",
   "execution_count": 21,
   "metadata": {},
   "outputs": [
    {
     "name": "stdout",
     "output_type": "stream",
     "text": [
      "[(26751.2102,)]\n"
     ]
    }
   ],
   "source": [
    "select_query = \"SELECT rate FROM rates ORDER BY rate LIMIT 1\"\n",
    "cursor.execute(select_query)\n",
    "conn.commit()\n",
    "min_rate = cursor.fetchall()\n",
    "\n",
    "print(min_rate)"
   ]
  },
  {
   "cell_type": "markdown",
   "metadata": {},
   "source": [
    "* среднее значение курса за весь месяц,\n"
   ]
  },
  {
   "cell_type": "code",
   "execution_count": 22,
   "metadata": {},
   "outputs": [
    {
     "name": "stdout",
     "output_type": "stream",
     "text": [
      "[(29750.170480645156,)]\n"
     ]
    }
   ],
   "source": [
    "select_query = \"SELECT AVG(rate) FROM rates \"\n",
    "cursor.execute(select_query)\n",
    "conn.commit()\n",
    "mid_rate = cursor.fetchall()\n",
    "\n",
    "print(mid_rate)"
   ]
  },
  {
   "cell_type": "markdown",
   "metadata": {},
   "source": [
    "* значение курса на последний день месяца."
   ]
  },
  {
   "cell_type": "code",
   "execution_count": 23,
   "metadata": {},
   "outputs": [
    {
     "name": "stdout",
     "output_type": "stream",
     "text": [
      "[(34500.7938,)]\n"
     ]
    }
   ],
   "source": [
    "select_query = \"SELECT rate FROM rates  WHERE TO_CHAR(start_date, 'YYYY-MM-DD') = '2023-10-30'\"\n",
    "cursor.execute(select_query)\n",
    "conn.commit()\n",
    "last_rate = cursor.fetchall()\n",
    "\n",
    "print(last_rate)"
   ]
  },
  {
   "cell_type": "code",
   "execution_count": 24,
   "metadata": {},
   "outputs": [],
   "source": [
    "# cursor.close()\n",
    "# conn.close()\n"
   ]
  },
  {
   "cell_type": "code",
   "execution_count": 25,
   "metadata": {},
   "outputs": [
    {
     "name": "stdout",
     "output_type": "stream",
     "text": [
      "Requirement already satisfied: pandas in /Library/Frameworks/Python.framework/Versions/3.12/lib/python3.12/site-packages (2.1.3)\n",
      "Requirement already satisfied: numpy<2,>=1.26.0 in /Library/Frameworks/Python.framework/Versions/3.12/lib/python3.12/site-packages (from pandas) (1.26.2)\n",
      "Requirement already satisfied: python-dateutil>=2.8.2 in /Users/boorzik/Library/Python/3.12/lib/python/site-packages (from pandas) (2.8.2)\n",
      "Requirement already satisfied: pytz>=2020.1 in /Library/Frameworks/Python.framework/Versions/3.12/lib/python3.12/site-packages (from pandas) (2023.3.post1)\n",
      "Requirement already satisfied: tzdata>=2022.1 in /Library/Frameworks/Python.framework/Versions/3.12/lib/python3.12/site-packages (from pandas) (2023.3)\n",
      "Requirement already satisfied: six>=1.5 in /Users/boorzik/Library/Python/3.12/lib/python/site-packages (from python-dateutil>=2.8.2->pandas) (1.16.0)\n",
      "Note: you may need to restart the kernel to use updated packages.\n"
     ]
    }
   ],
   "source": [
    "pip install pandas\n"
   ]
  },
  {
   "cell_type": "code",
   "execution_count": 26,
   "metadata": {},
   "outputs": [],
   "source": [
    "import pandas as pd"
   ]
  },
  {
   "cell_type": "code",
   "execution_count": 27,
   "metadata": {},
   "outputs": [],
   "source": [
    "df = [[max_rate_day, min_rate_day, max_rate, min_rate, mid_rate, last_rate]]"
   ]
  },
  {
   "cell_type": "code",
   "execution_count": 28,
   "metadata": {},
   "outputs": [
    {
     "data": {
      "text/html": [
       "<div>\n",
       "<style scoped>\n",
       "    .dataframe tbody tr th:only-of-type {\n",
       "        vertical-align: middle;\n",
       "    }\n",
       "\n",
       "    .dataframe tbody tr th {\n",
       "        vertical-align: top;\n",
       "    }\n",
       "\n",
       "    .dataframe thead th {\n",
       "        text-align: right;\n",
       "    }\n",
       "</style>\n",
       "<table border=\"1\" class=\"dataframe\">\n",
       "  <thead>\n",
       "    <tr style=\"text-align: right;\">\n",
       "      <th></th>\n",
       "      <th>max_rate_day</th>\n",
       "      <th>min_rate_day</th>\n",
       "      <th>max_rate</th>\n",
       "      <th>min_rate</th>\n",
       "      <th>mid_rate</th>\n",
       "      <th>last_rate</th>\n",
       "    </tr>\n",
       "  </thead>\n",
       "  <tbody>\n",
       "    <tr>\n",
       "      <th>0</th>\n",
       "      <td>[(2023-10-31,)]</td>\n",
       "      <td>[(2023-10-12,)]</td>\n",
       "      <td>[(34673.2427,)]</td>\n",
       "      <td>[(26751.2102,)]</td>\n",
       "      <td>[(29750.170480645156,)]</td>\n",
       "      <td>[(34500.7938,)]</td>\n",
       "    </tr>\n",
       "  </tbody>\n",
       "</table>\n",
       "</div>"
      ],
      "text/plain": [
       "      max_rate_day     min_rate_day         max_rate         min_rate  \\\n",
       "0  [(2023-10-31,)]  [(2023-10-12,)]  [(34673.2427,)]  [(26751.2102,)]   \n",
       "\n",
       "                  mid_rate        last_rate  \n",
       "0  [(29750.170480645156,)]  [(34500.7938,)]  "
      ]
     },
     "execution_count": 28,
     "metadata": {},
     "output_type": "execute_result"
    }
   ],
   "source": [
    "final_data = pd.DataFrame(data=df,columns=('max_rate_day', 'min_rate_day', 'max_rate', 'min_rate', 'mid_rate', 'last_rate'))\n",
    "final_data"
   ]
  },
  {
   "cell_type": "code",
   "execution_count": null,
   "metadata": {},
   "outputs": [],
   "source": []
  }
 ],
 "metadata": {
  "kernelspec": {
   "display_name": "venv",
   "language": "python",
   "name": "python3"
  },
  "language_info": {
   "codemirror_mode": {
    "name": "ipython",
    "version": 3
   },
   "file_extension": ".py",
   "mimetype": "text/x-python",
   "name": "python",
   "nbconvert_exporter": "python",
   "pygments_lexer": "ipython3",
   "version": "3.12.0"
  }
 },
 "nbformat": 4,
 "nbformat_minor": 2
}
